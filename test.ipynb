{
 "cells": [
  {
   "cell_type": "markdown",
   "metadata": {},
   "source": [
    "# QISKit Test File"
   ]
  },
  {
   "cell_type": "code",
   "execution_count": 1,
   "metadata": {},
   "outputs": [],
   "source": [
    "import numpy as np\n",
    "import matplotlib.pyplot as plt\n",
    "import torch as th"
   ]
  },
  {
   "cell_type": "code",
   "execution_count": 5,
   "metadata": {},
   "outputs": [],
   "source": [
    "import qiskit"
   ]
  },
  {
   "cell_type": "code",
   "execution_count": 6,
   "metadata": {},
   "outputs": [
    {
     "data": {
      "text/plain": [
       "'1.1.0'"
      ]
     },
     "execution_count": 6,
     "metadata": {},
     "output_type": "execute_result"
    }
   ],
   "source": [
    "qiskit.__version__"
   ]
  },
  {
   "cell_type": "code",
   "execution_count": 9,
   "metadata": {},
   "outputs": [],
   "source": [
    "from qiskit_ibm_runtime import QiskitRuntimeService\n",
    "\n"
   ]
  },
  {
   "cell_type": "code",
   "execution_count": 10,
   "metadata": {},
   "outputs": [],
   "source": [
    "service = QiskitRuntimeService(channel = \"ibm_quantum\", \n",
    "                               token = \"c7b567c22375579eafbbe3f7f6ad214c865cfb10a175785c8c01fc07a87e4b8fb996e4d2953c1dbee6575110f9113b3a2f5e716bd3ef1f7006e7135f8534e826\")"
   ]
  },
  {
   "cell_type": "code",
   "execution_count": 16,
   "metadata": {},
   "outputs": [
    {
     "ename": "AccountAlreadyExistsError",
     "evalue": "'Named account (default-ibm-quantum) already exists. Set overwrite=True to overwrite.'",
     "output_type": "error",
     "traceback": [
      "\u001b[1;31m---------------------------------------------------------------------------\u001b[0m",
      "\u001b[1;31mAccountAlreadyExistsError\u001b[0m                 Traceback (most recent call last)",
      "Cell \u001b[1;32mIn[16], line 1\u001b[0m\n\u001b[1;32m----> 1\u001b[0m QiskitRuntimeService\u001b[38;5;241m.\u001b[39msave_account(channel\u001b[38;5;241m=\u001b[39m\u001b[38;5;124m\"\u001b[39m\u001b[38;5;124mibm_quantum\u001b[39m\u001b[38;5;124m\"\u001b[39m, token\u001b[38;5;241m=\u001b[39m\u001b[38;5;124m\"\u001b[39m\u001b[38;5;124mc7b567c22375579eafbbe3f7f6ad214c865cfb10a175785c8c01fc07a87e4b8fb996e4d2953c1dbee6575110f9113b3a2f5e716bd3ef1f7006e7135f8534e826\u001b[39m\u001b[38;5;124m\"\u001b[39m)\n",
      "File \u001b[1;32mc:\\Users\\leiqian\\.conda\\envs\\pt\\Lib\\site-packages\\qiskit_ibm_runtime\\qiskit_runtime_service.py:689\u001b[0m, in \u001b[0;36mQiskitRuntimeService.save_account\u001b[1;34m(token, url, instance, channel, filename, name, proxies, verify, overwrite, channel_strategy, set_as_default, private_endpoint)\u001b[0m\n\u001b[0;32m    650\u001b[0m \u001b[38;5;129m@staticmethod\u001b[39m\n\u001b[0;32m    651\u001b[0m \u001b[38;5;28;01mdef\u001b[39;00m \u001b[38;5;21msave_account\u001b[39m(\n\u001b[0;32m    652\u001b[0m     token: Optional[\u001b[38;5;28mstr\u001b[39m] \u001b[38;5;241m=\u001b[39m \u001b[38;5;28;01mNone\u001b[39;00m,\n\u001b[1;32m   (...)\u001b[0m\n\u001b[0;32m    663\u001b[0m     private_endpoint: Optional[\u001b[38;5;28mbool\u001b[39m] \u001b[38;5;241m=\u001b[39m \u001b[38;5;28;01mFalse\u001b[39;00m,\n\u001b[0;32m    664\u001b[0m ) \u001b[38;5;241m-\u001b[39m\u001b[38;5;241m>\u001b[39m \u001b[38;5;28;01mNone\u001b[39;00m:\n\u001b[0;32m    665\u001b[0m \u001b[38;5;250m    \u001b[39m\u001b[38;5;124;03m\"\"\"Save the account to disk for future use.\u001b[39;00m\n\u001b[0;32m    666\u001b[0m \n\u001b[0;32m    667\u001b[0m \u001b[38;5;124;03m    Args:\u001b[39;00m\n\u001b[1;32m   (...)\u001b[0m\n\u001b[0;32m    686\u001b[0m \u001b[38;5;124;03m        private_endpoint: Connect to private API URL.\u001b[39;00m\n\u001b[0;32m    687\u001b[0m \u001b[38;5;124;03m    \"\"\"\u001b[39;00m\n\u001b[1;32m--> 689\u001b[0m     AccountManager\u001b[38;5;241m.\u001b[39msave(\n\u001b[0;32m    690\u001b[0m         token\u001b[38;5;241m=\u001b[39mtoken,\n\u001b[0;32m    691\u001b[0m         url\u001b[38;5;241m=\u001b[39murl,\n\u001b[0;32m    692\u001b[0m         instance\u001b[38;5;241m=\u001b[39minstance,\n\u001b[0;32m    693\u001b[0m         channel\u001b[38;5;241m=\u001b[39mchannel,\n\u001b[0;32m    694\u001b[0m         filename\u001b[38;5;241m=\u001b[39mfilename,\n\u001b[0;32m    695\u001b[0m         name\u001b[38;5;241m=\u001b[39mname,\n\u001b[0;32m    696\u001b[0m         proxies\u001b[38;5;241m=\u001b[39mProxyConfiguration(\u001b[38;5;241m*\u001b[39m\u001b[38;5;241m*\u001b[39mproxies) \u001b[38;5;28;01mif\u001b[39;00m proxies \u001b[38;5;28;01melse\u001b[39;00m \u001b[38;5;28;01mNone\u001b[39;00m,\n\u001b[0;32m    697\u001b[0m         verify\u001b[38;5;241m=\u001b[39mverify,\n\u001b[0;32m    698\u001b[0m         overwrite\u001b[38;5;241m=\u001b[39moverwrite,\n\u001b[0;32m    699\u001b[0m         channel_strategy\u001b[38;5;241m=\u001b[39mchannel_strategy,\n\u001b[0;32m    700\u001b[0m         set_as_default\u001b[38;5;241m=\u001b[39mset_as_default,\n\u001b[0;32m    701\u001b[0m         private_endpoint\u001b[38;5;241m=\u001b[39mprivate_endpoint,\n\u001b[0;32m    702\u001b[0m     )\n",
      "File \u001b[1;32mc:\\Users\\leiqian\\.conda\\envs\\pt\\Lib\\site-packages\\qiskit_ibm_runtime\\accounts\\management.py:67\u001b[0m, in \u001b[0;36mAccountManager.save\u001b[1;34m(cls, token, url, instance, channel, filename, name, proxies, verify, overwrite, channel_strategy, set_as_default, private_endpoint)\u001b[0m\n\u001b[0;32m     56\u001b[0m filename \u001b[38;5;241m=\u001b[39m os\u001b[38;5;241m.\u001b[39mpath\u001b[38;5;241m.\u001b[39mexpanduser(filename)\n\u001b[0;32m     57\u001b[0m config \u001b[38;5;241m=\u001b[39m Account\u001b[38;5;241m.\u001b[39mcreate_account(\n\u001b[0;32m     58\u001b[0m     channel\u001b[38;5;241m=\u001b[39mchannel,\n\u001b[0;32m     59\u001b[0m     token\u001b[38;5;241m=\u001b[39mtoken,\n\u001b[1;32m   (...)\u001b[0m\n\u001b[0;32m     65\u001b[0m     private_endpoint\u001b[38;5;241m=\u001b[39mprivate_endpoint,\n\u001b[0;32m     66\u001b[0m )\n\u001b[1;32m---> 67\u001b[0m \u001b[38;5;28;01mreturn\u001b[39;00m save_config(\n\u001b[0;32m     68\u001b[0m     filename\u001b[38;5;241m=\u001b[39mfilename,\n\u001b[0;32m     69\u001b[0m     name\u001b[38;5;241m=\u001b[39mname,\n\u001b[0;32m     70\u001b[0m     overwrite\u001b[38;5;241m=\u001b[39moverwrite,\n\u001b[0;32m     71\u001b[0m     config\u001b[38;5;241m=\u001b[39mconfig\n\u001b[0;32m     72\u001b[0m     \u001b[38;5;66;03m# avoid storing invalid accounts\u001b[39;00m\n\u001b[0;32m     73\u001b[0m     \u001b[38;5;241m.\u001b[39mvalidate()\u001b[38;5;241m.\u001b[39mto_saved_format(),\n\u001b[0;32m     74\u001b[0m     set_as_default\u001b[38;5;241m=\u001b[39mset_as_default,\n\u001b[0;32m     75\u001b[0m )\n",
      "File \u001b[1;32mc:\\Users\\leiqian\\.conda\\envs\\pt\\Lib\\site-packages\\qiskit_ibm_runtime\\accounts\\storage.py:35\u001b[0m, in \u001b[0;36msave_config\u001b[1;34m(filename, name, config, overwrite, set_as_default)\u001b[0m\n\u001b[0;32m     32\u001b[0m     data \u001b[38;5;241m=\u001b[39m json\u001b[38;5;241m.\u001b[39mload(json_in)\n\u001b[0;32m     34\u001b[0m \u001b[38;5;28;01mif\u001b[39;00m data\u001b[38;5;241m.\u001b[39mget(name) \u001b[38;5;129;01mand\u001b[39;00m \u001b[38;5;129;01mnot\u001b[39;00m overwrite:\n\u001b[1;32m---> 35\u001b[0m     \u001b[38;5;28;01mraise\u001b[39;00m AccountAlreadyExistsError(\n\u001b[0;32m     36\u001b[0m         \u001b[38;5;124mf\u001b[39m\u001b[38;5;124m\"\u001b[39m\u001b[38;5;124mNamed account (\u001b[39m\u001b[38;5;132;01m{\u001b[39;00mname\u001b[38;5;132;01m}\u001b[39;00m\u001b[38;5;124m) already exists. \u001b[39m\u001b[38;5;124m\"\u001b[39m \u001b[38;5;124mf\u001b[39m\u001b[38;5;124m\"\u001b[39m\u001b[38;5;124mSet overwrite=True to overwrite.\u001b[39m\u001b[38;5;124m\"\u001b[39m\n\u001b[0;32m     37\u001b[0m     )\n\u001b[0;32m     39\u001b[0m data[name] \u001b[38;5;241m=\u001b[39m config\n\u001b[0;32m     41\u001b[0m \u001b[38;5;66;03m# if set_as_default, but another account is defined as default, user must specify overwrite to change\u001b[39;00m\n\u001b[0;32m     42\u001b[0m \u001b[38;5;66;03m# the default account.\u001b[39;00m\n",
      "\u001b[1;31mAccountAlreadyExistsError\u001b[0m: 'Named account (default-ibm-quantum) already exists. Set overwrite=True to overwrite.'"
     ]
    }
   ],
   "source": [
    "QiskitRuntimeService.save_account(channel=\"ibm_quantum\", token=\"c7b567c22375579eafbbe3f7f6ad214c865cfb10a175785c8c01fc07a87e4b8fb996e4d2953c1dbee6575110f9113b3a2f5e716bd3ef1f7006e7135f8534e826\")"
   ]
  },
  {
   "cell_type": "code",
   "execution_count": 15,
   "metadata": {},
   "outputs": [
    {
     "ename": "QiskitBackendNotFoundError",
     "evalue": "'No backend matches the criteria.'",
     "output_type": "error",
     "traceback": [
      "\u001b[1;31m---------------------------------------------------------------------------\u001b[0m",
      "\u001b[1;31mQiskitBackendNotFoundError\u001b[0m                Traceback (most recent call last)",
      "Cell \u001b[1;32mIn[15], line 1\u001b[0m\n\u001b[1;32m----> 1\u001b[0m backend \u001b[38;5;241m=\u001b[39m service\u001b[38;5;241m.\u001b[39mbackend(name \u001b[38;5;241m=\u001b[39m \u001b[38;5;124m\"\u001b[39m\u001b[38;5;124mibm_kyiv\u001b[39m\u001b[38;5;124m\"\u001b[39m)\n",
      "File \u001b[1;32mc:\\Users\\leiqian\\.conda\\envs\\pt\\Lib\\site-packages\\qiskit_ibm_runtime\\qiskit_runtime_service.py:774\u001b[0m, in \u001b[0;36mQiskitRuntimeService.backend\u001b[1;34m(self, name, instance, use_fractional_gates)\u001b[0m\n\u001b[0;32m    765\u001b[0m \u001b[38;5;28;01mif\u001b[39;00m \u001b[38;5;129;01mnot\u001b[39;00m name:\n\u001b[0;32m    766\u001b[0m     warnings\u001b[38;5;241m.\u001b[39mwarn(\n\u001b[0;32m    767\u001b[0m         (\n\u001b[0;32m    768\u001b[0m             \u001b[38;5;124m\"\u001b[39m\u001b[38;5;124mThe `name` parameter will be required in a future release no sooner than \u001b[39m\u001b[38;5;124m\"\u001b[39m\n\u001b[1;32m   (...)\u001b[0m\n\u001b[0;32m    772\u001b[0m         stacklevel\u001b[38;5;241m=\u001b[39m\u001b[38;5;241m2\u001b[39m,\n\u001b[0;32m    773\u001b[0m     )\n\u001b[1;32m--> 774\u001b[0m backends \u001b[38;5;241m=\u001b[39m \u001b[38;5;28mself\u001b[39m\u001b[38;5;241m.\u001b[39mbackends(name, instance\u001b[38;5;241m=\u001b[39minstance, use_fractional_gates\u001b[38;5;241m=\u001b[39muse_fractional_gates)\n\u001b[0;32m    775\u001b[0m \u001b[38;5;28;01mif\u001b[39;00m \u001b[38;5;129;01mnot\u001b[39;00m backends:\n\u001b[0;32m    776\u001b[0m     cloud_msg_url \u001b[38;5;241m=\u001b[39m \u001b[38;5;124m\"\u001b[39m\u001b[38;5;124m\"\u001b[39m\n",
      "File \u001b[1;32mc:\\Users\\leiqian\\.conda\\envs\\pt\\Lib\\site-packages\\qiskit_ibm_runtime\\qiskit_runtime_service.py:523\u001b[0m, in \u001b[0;36mQiskitRuntimeService.backends\u001b[1;34m(self, name, min_num_qubits, instance, dynamic_circuits, filters, use_fractional_gates, **kwargs)\u001b[0m\n\u001b[0;32m    521\u001b[0m \u001b[38;5;28;01mif\u001b[39;00m name:\n\u001b[0;32m    522\u001b[0m     \u001b[38;5;28;01mif\u001b[39;00m name \u001b[38;5;129;01mnot\u001b[39;00m \u001b[38;5;129;01min\u001b[39;00m \u001b[38;5;28mself\u001b[39m\u001b[38;5;241m.\u001b[39m_backend_allowed_list:\n\u001b[1;32m--> 523\u001b[0m         \u001b[38;5;28;01mraise\u001b[39;00m QiskitBackendNotFoundError(\u001b[38;5;124m\"\u001b[39m\u001b[38;5;124mNo backend matches the criteria.\u001b[39m\u001b[38;5;124m\"\u001b[39m)\n\u001b[0;32m    524\u001b[0m     backend_names \u001b[38;5;241m=\u001b[39m [name]\n\u001b[0;32m    525\u001b[0m     hgp \u001b[38;5;241m=\u001b[39m instance_filter\n",
      "\u001b[1;31mQiskitBackendNotFoundError\u001b[0m: 'No backend matches the criteria.'"
     ]
    }
   ],
   "source": [
    "backend = service.backend(name = \"ibm_kyiv\")"
   ]
  },
  {
   "cell_type": "code",
   "execution_count": null,
   "metadata": {},
   "outputs": [],
   "source": []
  }
 ],
 "metadata": {
  "kernelspec": {
   "display_name": "pt",
   "language": "python",
   "name": "python3"
  },
  "language_info": {
   "codemirror_mode": {
    "name": "ipython",
    "version": 3
   },
   "file_extension": ".py",
   "mimetype": "text/x-python",
   "name": "python",
   "nbconvert_exporter": "python",
   "pygments_lexer": "ipython3",
   "version": "3.12.3"
  }
 },
 "nbformat": 4,
 "nbformat_minor": 2
}
